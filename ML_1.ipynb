{
 "cells": [
  {
   "cell_type": "markdown",
   "id": "0ad51919",
   "metadata": {},
   "source": [
    "# Q1.Questions on Basic NumPy Array"
   ]
  },
  {
   "cell_type": "code",
   "execution_count": 7,
   "id": "82fe1f32",
   "metadata": {},
   "outputs": [
    {
     "data": {
      "text/plain": [
       "array([1, 2, 3, 4, 5, 6])"
      ]
     },
     "execution_count": 7,
     "metadata": {},
     "output_type": "execute_result"
    }
   ],
   "source": [
    "# Q1. a) reverse\n",
    "import numpy as np\n",
    "\n",
    "arr = np.array([1,2,3,4,5,6])\n",
    "np.flip(arr)\n",
    "\n",
    "arr"
   ]
  },
  {
   "cell_type": "code",
   "execution_count": 17,
   "id": "4c530ddc",
   "metadata": {},
   "outputs": [
    {
     "data": {
      "text/plain": [
       "array([1, 2, 1, 2, 4, 2, 3, 5, 3])"
      ]
     },
     "execution_count": 17,
     "metadata": {},
     "output_type": "execute_result"
    }
   ],
   "source": [
    "# b) flatten\n",
    "arr = np.array([[1,2,3],[2,4,5],[1,2,3]])\n",
    "arr = arr.flatten('F') # col major flatten operation\n",
    "arr"
   ]
  },
  {
   "cell_type": "code",
   "execution_count": 20,
   "id": "b2761929",
   "metadata": {},
   "outputs": [
    {
     "data": {
      "text/plain": [
       "array([1, 2, 1, 2, 4, 2, 3, 5, 3])"
      ]
     },
     "execution_count": 20,
     "metadata": {},
     "output_type": "execute_result"
    }
   ],
   "source": [
    "arr.reshape(-1)"
   ]
  },
  {
   "cell_type": "code",
   "execution_count": 26,
   "id": "b2173404",
   "metadata": {},
   "outputs": [
    {
     "data": {
      "text/plain": [
       "True"
      ]
     },
     "execution_count": 26,
     "metadata": {},
     "output_type": "execute_result"
    }
   ],
   "source": [
    "#Q1 c)\n",
    "arr1 = np.array([[1,2],[3,4]])\n",
    "arr2 = np.array([[1,2],[3,4]])\n",
    "\n",
    "np.equal(arr2,arr1)\n",
    "np.array_equal(arr2,arr1)"
   ]
  },
  {
   "cell_type": "code",
   "execution_count": 35,
   "id": "e9f1f7b6",
   "metadata": {},
   "outputs": [
    {
     "data": {
      "text/plain": [
       "array([0, 5, 2, 1, 1, 1, 2], dtype=int64)"
      ]
     },
     "execution_count": 35,
     "metadata": {},
     "output_type": "execute_result"
    }
   ],
   "source": [
    "# Q1 d)\n",
    "x = np.array([1,2,3,4,5,1,2,1,1,1,6,6,])\n",
    "# find most frequent value\n",
    "x1 = np.bincount(x)\n",
    "x1 # found the most occurent element\n",
    "\n",
    "# for i in range(len(x)):\n",
    "#     if x[i] == x1:\n",
    "#         print(i)"
   ]
  },
  {
   "cell_type": "code",
   "execution_count": 40,
   "id": "14a5fd39",
   "metadata": {},
   "outputs": [
    {
     "name": "stdout",
     "output_type": "stream",
     "text": [
      "45\n",
      "[[20  9 16]]\n",
      "[[14]\n",
      " [16]\n",
      " [15]]\n"
     ]
    }
   ],
   "source": [
    "# e)\n",
    "m = np.matrix('[4,1,9; 12,3,1; 4,5,6]')\n",
    "\n",
    "print(np.sum(m))\n",
    "print(np.sum(m,axis= 0))  # col sum\n",
    "print(np.sum(m,axis= 1))  # row sum"
   ]
  },
  {
   "cell_type": "code",
   "execution_count": 53,
   "id": "14cad299",
   "metadata": {},
   "outputs": [
    {
     "name": "stdout",
     "output_type": "stream",
     "text": [
      "176\n",
      "[98.16835147 28.097044   49.73460452]\n",
      "[[ 0.4574917   0.34637121 -0.15017693]\n",
      " [ 0.28447814 -0.72784061 -0.4852124 ]\n",
      " [ 0.84248058  0.59184038  0.8614034 ]]\n",
      "[[ 0.02404141 -0.00911212 -0.00444671]\n",
      " [-0.01667882  0.02966905  0.0024785 ]\n",
      " [ 0.00631287 -0.01603732  0.01217379]]\n",
      "137180.0000000001\n"
     ]
    }
   ],
   "source": [
    "# f)\n",
    "n_array = np.array([[55,25,15],[30,44,2],[11,45,77]])\n",
    "print(np.diag(n_array).sum())\n",
    "eigenvalues, eigenvectors = np.linalg.eig(n_array)\n",
    "print(eigenvalues)\n",
    "print(eigenvectors)\n",
    "print(np.linalg.inv(n_array))\n",
    "print(np.linalg.det(n_array))"
   ]
  },
  {
   "cell_type": "code",
   "execution_count": 69,
   "id": "c74c42dc",
   "metadata": {},
   "outputs": [
    {
     "name": "stdout",
     "output_type": "stream",
     "text": [
      "0.5\n"
     ]
    }
   ],
   "source": [
    "# g)\n",
    "p = np.matrix('[1,2;2,3]')\n",
    "q = np.matrix('[4,5;6,7]')\n",
    "\n",
    "p = np.array([[1,2],[2,3]])\n",
    "q = np.array([[4,5],[6,7]])\n",
    "\n",
    "# we will first need to flatten the arrays first\n",
    "p.flatten()\n",
    "q.flatten()\n",
    "\n",
    "r = p@q\n",
    "r\n",
    "print(np.cov(p,q)[0,1])"
   ]
  },
  {
   "cell_type": "code",
   "execution_count": 75,
   "id": "7b31507a",
   "metadata": {},
   "outputs": [
    {
     "name": "stdout",
     "output_type": "stream",
     "text": [
      "[[16 19  5]\n",
      " [26 31  8]\n",
      " [46 55 14]]\n",
      "[[0.5 0.5 0.5 1.  1.  0.5]\n",
      " [0.5 0.5 0.5 1.  1.  0.5]\n",
      " [0.5 0.5 0.5 1.  1.  0.5]\n",
      " [1.  1.  1.  2.  2.  1. ]\n",
      " [1.  1.  1.  2.  2.  1. ]\n",
      " [0.5 0.5 0.5 1.  1.  0.5]]\n"
     ]
    }
   ],
   "source": [
    "p = np.array([[1, 2], [2, 3], [4, 5]])\n",
    "q = np.array([[4, 5, 1], [6, 7, 2]])\n",
    "\n",
    "\n",
    "r = p@q\n",
    "print(r)\n",
    "\n",
    "# p.flatten()\n",
    "# q.flatten()\n",
    "print(np.cov(p,q.T))\n"
   ]
  },
  {
   "cell_type": "code",
   "execution_count": null,
   "id": "86584bd2",
   "metadata": {},
   "outputs": [],
   "source": [
    "x = np.array([[2, 3, 4], [3, 2, 9]])\n",
    "y = np.array([[1, 5, 0], [5, 10, 3]])\n",
    "print(np.inner(x,y))\n",
    "print(np.outer(x,y))\n",
    "print(np.array(np.array(np.meshgrid(x,y))).T.reshape(-1,2))"
   ]
  },
  {
   "cell_type": "markdown",
   "id": "3e700a0d",
   "metadata": {},
   "source": [
    "# Q2 Based on NumPy Mathematics and Statistics "
   ]
  },
  {
   "cell_type": "code",
   "execution_count": null,
   "id": "267e99a4",
   "metadata": {},
   "outputs": [
    {
     "name": "stdout",
     "output_type": "stream",
     "text": [
      "2.5\n",
      "-0.5\n",
      "-3.5\n",
      "-0.5\n",
      "-0.5\n",
      "3.8622100754188224\n"
     ]
    }
   ],
   "source": [
    "# a)\n",
    "arr = np.array([[1, -2, 3],[-4, 5, -6]])\n",
    "arr.__abs__()\n",
    "print(np.percentile(arr,75))\n",
    "print(np.percentile(arr,50))\n",
    "print(np.percentile(arr,25))\n",
    "\n",
    "print(np.mean(arr))\n",
    "print(np.median (arr))\n",
    "print(np.std(arr))"
   ]
  },
  {
   "cell_type": "code",
   "execution_count": null,
   "id": "a9b4c663",
   "metadata": {},
   "outputs": [
    {
     "name": "stdout",
     "output_type": "stream",
     "text": [
      "[-2. -2. -1.  0.  1.  1.  3.]\n",
      "[-1. -1. -0.  1.  2.  2.  3.]\n",
      "[-1. -1. -0.  0.  1.  1.  3.]\n",
      "[-2. -2. -0.  0.  2.  2.  3.]\n"
     ]
    }
   ],
   "source": [
    "# b)\n",
    "a = np.array([-1.8, -1.6, -0.5, 0.5,1.6, 1.8, 3.0])\n",
    "print(np.floor(a))\n",
    "print(np.ceil(a))\n",
    "print(np.trunc(a))\n",
    "print(np.round(a,))"
   ]
  },
  {
   "cell_type": "markdown",
   "id": "8bed9490",
   "metadata": {},
   "source": [
    "# Q3: Based on Searching and Sorting"
   ]
  },
  {
   "cell_type": "code",
   "execution_count": 106,
   "id": "95167cc6",
   "metadata": {},
   "outputs": [
    {
     "data": {
      "text/plain": [
       "array([453,  62,  54,  52,  16])"
      ]
     },
     "execution_count": 106,
     "metadata": {},
     "output_type": "execute_result"
    }
   ],
   "source": [
    "array = np.array([10, 52, 62, 16, 16, 54, 453])\n",
    "np.sort(array)\n",
    "np.sort(array)[0:4]\n",
    "np.sort(array)[6:1:-1]"
   ]
  },
  {
   "cell_type": "code",
   "execution_count": 109,
   "id": "e48329b2",
   "metadata": {},
   "outputs": [
    {
     "name": "stdout",
     "output_type": "stream",
     "text": [
      "1.0\n",
      "2.0\n",
      "3.0\n",
      "2.0\n",
      "\n",
      "\n",
      "1.2\n",
      "2.2\n"
     ]
    }
   ],
   "source": [
    "array = np.array([1.0, 1.2, 2.2, 2.0, 3.0, 2.0])\n",
    "for i in array:\n",
    "    if int(i) == i:\n",
    "        print(i)\n",
    "print('\\n')\n",
    "for i in array:\n",
    "    if int(i) != i:\n",
    "        print(i)"
   ]
  },
  {
   "cell_type": "markdown",
   "id": "8b44d2fd",
   "metadata": {},
   "source": [
    "# Q4"
   ]
  },
  {
   "cell_type": "code",
   "execution_count": 111,
   "id": "7b84c706",
   "metadata": {},
   "outputs": [
    {
     "name": "stdout",
     "output_type": "stream",
     "text": [
      "Note: you may need to restart the kernel to use updated packages.\n"
     ]
    },
    {
     "name": "stderr",
     "output_type": "stream",
     "text": [
      "ERROR: Could not find a version that satisfies the requirement cv2 (from versions: none)\n",
      "ERROR: No matching distribution found for cv2\n",
      "\n",
      "[notice] A new release of pip is available: 24.0 -> 25.1.1\n",
      "[notice] To update, run: python.exe -m pip install --upgrade pip\n"
     ]
    }
   ],
   "source": [
    "pip install cv2"
   ]
  },
  {
   "cell_type": "code",
   "execution_count": 112,
   "id": "f6cdfe64",
   "metadata": {},
   "outputs": [
    {
     "ename": "ModuleNotFoundError",
     "evalue": "No module named 'cv2'",
     "output_type": "error",
     "traceback": [
      "\u001b[31m---------------------------------------------------------------------------\u001b[39m",
      "\u001b[31mModuleNotFoundError\u001b[39m                       Traceback (most recent call last)",
      "\u001b[36mCell\u001b[39m\u001b[36m \u001b[39m\u001b[32mIn[112]\u001b[39m\u001b[32m, line 1\u001b[39m\n\u001b[32m----> \u001b[39m\u001b[32m1\u001b[39m \u001b[38;5;28;01mimport\u001b[39;00m\u001b[38;5;250m \u001b[39m\u001b[34;01mcv2\u001b[39;00m  \u001b[38;5;66;03m# OpenCV\u001b[39;00m\n\u001b[32m      3\u001b[39m \u001b[38;5;28;01mdef\u001b[39;00m\u001b[38;5;250m \u001b[39m\u001b[34mimg_to_array\u001b[39m(path):\n\u001b[32m      4\u001b[39m     \u001b[38;5;66;03m# Read image using OpenCV\u001b[39;00m\n\u001b[32m      5\u001b[39m     img = cv2.imread(path, cv2.IMREAD_UNCHANGED)\n",
      "\u001b[31mModuleNotFoundError\u001b[39m: No module named 'cv2'"
     ]
    }
   ],
   "source": [
    "import cv2  # OpenCV\n",
    "\n",
    "def img_to_array(path):\n",
    "    # Read image using OpenCV\n",
    "    img = cv2.imread(path, cv2.IMREAD_UNCHANGED)\n",
    "\n",
    "    if img is None:\n",
    "        raise FileNotFoundError(\"Image not found or path incorrect.\")\n",
    "\n",
    "    # Check number of channels\n",
    "    if len(img.shape) == 2:\n",
    "        # Grayscale image\n",
    "        print(\"Grayscale image detected.\")\n",
    "        np.savetxt(\"grayscale_image.txt\", img, fmt='%d')\n",
    "    elif len(img.shape) == 3:\n",
    "        # RGB image: OpenCV reads as BGR by default\n",
    "        print(\"RGB image detected.\")\n",
    "        img_rgb = cv2.cvtColor(img, cv2.COLOR_BGR2RGB)\n",
    "        # Save as a 3D array in .npy format\n",
    "        np.save(\"rgb_image.npy\", img_rgb)\n",
    "    else:\n",
    "        print(\"Unsupported image format.\")\n",
    "\n",
    "    return img"
   ]
  }
 ],
 "metadata": {
  "kernelspec": {
   "display_name": "Python 3",
   "language": "python",
   "name": "python3"
  },
  "language_info": {
   "codemirror_mode": {
    "name": "ipython",
    "version": 3
   },
   "file_extension": ".py",
   "mimetype": "text/x-python",
   "name": "python",
   "nbconvert_exporter": "python",
   "pygments_lexer": "ipython3",
   "version": "3.12.3"
  }
 },
 "nbformat": 4,
 "nbformat_minor": 5
}
